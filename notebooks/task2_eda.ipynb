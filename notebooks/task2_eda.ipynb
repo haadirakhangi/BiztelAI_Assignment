{
 "cells": [
  {
   "cell_type": "code",
   "execution_count": null,
   "id": "9a811039",
   "metadata": {},
   "outputs": [],
   "source": [
    "import pandas as pd\n",
    "import numpy as np\n",
    "import matplotlib.pyplot as plt\n",
    "import os\n",
    "import sys\n",
    "import seaborn as sns\n",
    "from wordcloud import WordCloud\n",
    "import plotly.express as px\n",
    "from collections import Counter\n",
    "\n",
    "module_path = os.path.abspath(os.path.join(\"..\"))\n",
    "if module_path not in sys.path:\n",
    "    sys.path.append(module_path)"
   ]
  },
  {
   "cell_type": "code",
   "execution_count": null,
   "id": "9c0f9d5b",
   "metadata": {},
   "outputs": [],
   "source": [
    "df_processed = pd.read_pickle(\"../data/processed_chat_data.pkl\")\n",
    "print(\"Processed dataframe shape: \", df_processed.shape)\n",
    "df_processed.head()"
   ]
  },
  {
   "cell_type": "code",
   "execution_count": null,
   "id": "728d9471",
   "metadata": {},
   "outputs": [],
   "source": [
    "print(\"\\n--- Dataset Fields and Info ---\")\n",
    "df_processed.info()"
   ]
  },
  {
   "cell_type": "code",
   "execution_count": null,
   "id": "88e3ce2f",
   "metadata": {},
   "outputs": [],
   "source": [
    "print(\"\\n--- Statistical Summary (Numerical) ---\")\n",
    "print(df_processed.describe())"
   ]
  },
  {
   "cell_type": "code",
   "execution_count": null,
   "id": "c7fc5228",
   "metadata": {},
   "outputs": [],
   "source": [
    "print(\"\\n--- Statistical Summary (Categorical/Object) ---\")\n",
    "print(df_processed.describe(include=['object', 'category']))"
   ]
  }
 ],
 "metadata": {
  "kernelspec": {
   "display_name": "venv",
   "language": "python",
   "name": "python3"
  },
  "language_info": {
   "codemirror_mode": {
    "name": "ipython",
    "version": 3
   },
   "file_extension": ".py",
   "mimetype": "text/x-python",
   "name": "python",
   "nbconvert_exporter": "python",
   "pygments_lexer": "ipython3",
   "version": "3.12.6"
  }
 },
 "nbformat": 4,
 "nbformat_minor": 5
}
